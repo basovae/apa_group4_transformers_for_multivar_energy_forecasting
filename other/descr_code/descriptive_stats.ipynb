{
 "cells": [
  {
   "cell_type": "markdown",
   "id": "e4f5f7a6-77b9-4f19-827b-b25230a7ec4c",
   "metadata": {},
   "source": [
    "# Transformers for multivariate energy forecasting\n",
    "## Descriptive data exploration\n",
    "### Part 1 - Daily Data"
   ]
  },
  {
   "cell_type": "code",
   "execution_count": null,
   "id": "f971a2f9-39b9-4c6d-8963-f449f17f12da",
   "metadata": {},
   "outputs": [],
   "source": [
    "import pandas as pd\n",
    "# csv into a dataframe\n",
    "df = pd.read_csv('../data/european_wholesale_electricity_price_data_daily-5.csv')"
   ]
  },
  {
   "cell_type": "markdown",
   "id": "4e89ef17-5ced-4227-9f9c-67a1fae64ebe",
   "metadata": {},
   "source": [
    "#### Data overview"
   ]
  },
  {
   "cell_type": "code",
   "execution_count": 3,
   "id": "5e3de122-2772-49a0-8a8a-d31f0715c466",
   "metadata": {},
   "outputs": [
    {
     "name": "stdout",
     "output_type": "stream",
     "text": [
      "First few rows of the DataFrame:\n",
      "   Country ISO3 Code        Date  Price (EUR/MWhe)\n",
      "0  Austria       AUT  2015-01-01             35.86\n",
      "1  Austria       AUT  2015-01-02             35.86\n",
      "2  Austria       AUT  2015-01-03             35.86\n",
      "3  Austria       AUT  2015-01-04             35.86\n",
      "4  Austria       AUT  2015-01-05             36.18\n"
     ]
    }
   ],
   "source": [
    "# first few rows of the df to get a sence og how data looks like\n",
    "print(\"First few rows of the DataFrame:\")\n",
    "print(df.head())"
   ]
  },
  {
   "cell_type": "markdown",
   "id": "4c3e3b90-0966-4df7-a322-5ac5df390966",
   "metadata": {},
   "source": [
    "#### Data format"
   ]
  },
  {
   "cell_type": "code",
   "execution_count": 10,
   "id": "f76ab885-0d02-4e16-bcf6-06a7369e2a83",
   "metadata": {},
   "outputs": [
    {
     "name": "stdout",
     "output_type": "stream",
     "text": [
      "Original Data Types:\n",
      " Country              object\n",
      "ISO3 Code            object\n",
      "Date                 object\n",
      "Price (EUR/MWhe)    float64\n",
      "dtype: object\n"
     ]
    }
   ],
   "source": [
    "# data types\n",
    "print(\"Original Data Types:\\n\", df.dtypes)"
   ]
  },
  {
   "cell_type": "code",
   "execution_count": 12,
   "id": "8c4e9924-950b-4299-88ad-b204362cf751",
   "metadata": {},
   "outputs": [
    {
     "name": "stdout",
     "output_type": "stream",
     "text": [
      "\n",
      "After Conversion:\n",
      "        Country ISO3 Code       Date  Price (EUR/MWhe)\n",
      "0      Austria       AUT 2015-01-01             35.86\n",
      "1      Austria       AUT 2015-01-02             35.86\n",
      "2      Austria       AUT 2015-01-03             35.86\n",
      "3      Austria       AUT 2015-01-04             35.86\n",
      "4      Austria       AUT 2015-01-05             36.18\n",
      "...        ...       ...        ...               ...\n",
      "92052   Sweden       SWE 2024-03-27             47.68\n",
      "92053   Sweden       SWE 2024-03-28             38.01\n",
      "92054   Sweden       SWE 2024-03-29             24.80\n",
      "92055   Sweden       SWE 2024-03-30             40.86\n",
      "92056   Sweden       SWE 2024-03-31             44.07\n",
      "\n",
      "[92057 rows x 4 columns]\n",
      "\n",
      "Data Types after conversion:\n",
      " Country                     object\n",
      "ISO3 Code                   object\n",
      "Date                datetime64[ns]\n",
      "Price (EUR/MWhe)           float64\n",
      "dtype: object\n"
     ]
    }
   ],
   "source": [
    "# converting 'Date' to datetime\n",
    "df['Date'] = pd.to_datetime(df['Date'])\n",
    "\n",
    "# checking the results\n",
    "print(\"\\nAfter Conversion:\\n\", df)\n",
    "print(\"\\nData Types after conversion:\\n\", df.dtypes)"
   ]
  },
  {
   "cell_type": "markdown",
   "id": "ca02dae0-e3e8-459c-b5f9-0f704440d36c",
   "metadata": {},
   "source": [
    "The ns suffix stands for nanoseconds, reflecting the precision of the datetime values. This allows for datetime data to be represented with a precision up to nanoseconds, which is particularly useful for high-frequency data, like financial time series."
   ]
  },
  {
   "cell_type": "markdown",
   "id": "fcf7feb3-ebc3-4fd4-bfb0-b42c42f0cfc8",
   "metadata": {},
   "source": [
    "#### Number of observations and number of distincs entries"
   ]
  },
  {
   "cell_type": "code",
   "execution_count": 6,
   "id": "4d1825ff-2a19-4b1a-868e-3dd094396efc",
   "metadata": {},
   "outputs": [
    {
     "name": "stdout",
     "output_type": "stream",
     "text": [
      "Number of rows: 92057\n"
     ]
    }
   ],
   "source": [
    "# count rows in the whole dataset\n",
    "row_count = len(df)\n",
    "print(\"Number of rows:\", row_count)"
   ]
  },
  {
   "cell_type": "code",
   "execution_count": 7,
   "id": "44a7aefe-b690-474b-89fe-a6ff26170a7d",
   "metadata": {},
   "outputs": [
    {
     "name": "stdout",
     "output_type": "stream",
     "text": [
      "Number of distinct names: 29\n"
     ]
    }
   ],
   "source": [
    "# count distinct countries\n",
    "distinct_names = df['Country'].nunique()\n",
    "print(\"Number of distinct names:\", distinct_names)"
   ]
  },
  {
   "cell_type": "code",
   "execution_count": 8,
   "id": "1d10bb1d-0c57-45c7-9605-e63ab8dd8026",
   "metadata": {},
   "outputs": [
    {
     "name": "stdout",
     "output_type": "stream",
     "text": [
      "Number of distinct names: 3378\n"
     ]
    }
   ],
   "source": [
    "# Count distinct dates\n",
    "distinct_names = df['Date'].nunique()\n",
    "print(\"Number of distinct names:\", distinct_names)"
   ]
  },
  {
   "cell_type": "code",
   "execution_count": 14,
   "id": "e10b8406",
   "metadata": {},
   "outputs": [
    {
     "data": {
      "text/plain": [
       "[2015, 2016, 2017, 2018, 2019, 2020, 2021, 2022, 2023, 2024]"
      ]
     },
     "execution_count": 14,
     "metadata": {},
     "output_type": "execute_result"
    }
   ],
   "source": [
    "# Extract the year from the date column\n",
    "df['year'] = df['Date'].dt.year\n",
    "\n",
    "# Get the unique years as a list\n",
    "distinct_years = df['year'].unique().tolist()\n",
    "distinct_years"
   ]
  },
  {
   "cell_type": "markdown",
   "id": "02136421-7a08-400f-bde2-e7e773c03190",
   "metadata": {},
   "source": [
    "#### Price"
   ]
  },
  {
   "cell_type": "code",
   "execution_count": 4,
   "id": "7c059f99-d5e2-4c43-b217-3992ad2abc89",
   "metadata": {},
   "outputs": [
    {
     "name": "stdout",
     "output_type": "stream",
     "text": [
      "\n",
      "Summary statistics for numeric column price:\n",
      "       Price (EUR/MWhe)\n",
      "count      92057.000000\n",
      "mean          75.255330\n",
      "std           77.895849\n",
      "min         -202.290000\n",
      "25%           34.980000\n",
      "50%           48.160000\n",
      "75%           79.790000\n",
      "max          888.090000\n"
     ]
    }
   ],
   "source": [
    "# summary stats\n",
    "print(\"\\nSummary statistics for numeric column price:\")\n",
    "print(df.describe())"
   ]
  },
  {
   "cell_type": "markdown",
   "id": "7f586f8c-a951-4ce4-8939-50e4c7ff69fa",
   "metadata": {},
   "source": [
    "#### Missing values"
   ]
  },
  {
   "cell_type": "code",
   "execution_count": 5,
   "id": "fda25711-1cf1-41a5-87f9-a65368fdd890",
   "metadata": {},
   "outputs": [
    {
     "name": "stdout",
     "output_type": "stream",
     "text": [
      "\n",
      "Check for missing values:\n",
      "Country             0\n",
      "ISO3 Code           0\n",
      "Date                0\n",
      "Price (EUR/MWhe)    0\n",
      "dtype: int64\n"
     ]
    }
   ],
   "source": [
    "#missing values\n",
    "print(\"\\nCheck for missing values:\")\n",
    "print(df.isnull().sum())"
   ]
  }
 ],
 "metadata": {
  "kernelspec": {
   "display_name": "Python 3 (ipykernel)",
   "language": "python",
   "name": "python3"
  },
  "language_info": {
   "codemirror_mode": {
    "name": "ipython",
    "version": 3
   },
   "file_extension": ".py",
   "mimetype": "text/x-python",
   "name": "python",
   "nbconvert_exporter": "python",
   "pygments_lexer": "ipython3",
   "version": "3.12.2"
  }
 },
 "nbformat": 4,
 "nbformat_minor": 5
}
